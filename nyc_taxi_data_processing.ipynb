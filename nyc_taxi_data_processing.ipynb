{
 "cells": [
  {
   "cell_type": "code",
   "execution_count": 14,
   "id": "fd8b08e0-b31a-4985-bdfc-8c06c5f3605b",
   "metadata": {},
   "outputs": [],
   "source": [
    "from prettytable import PrettyTable"
   ]
  },
  {
   "cell_type": "code",
   "execution_count": 1,
   "id": "36e56698-5855-43cb-935e-d94144294b7c",
   "metadata": {},
   "outputs": [],
   "source": [
    "from pyspark.sql import SparkSession"
   ]
  },
  {
   "cell_type": "code",
   "execution_count": 9,
   "id": "d439bdff-913b-4eec-8f5c-098b78bc2a79",
   "metadata": {},
   "outputs": [],
   "source": [
    "from pyspark.sql.types import IntegerType, StringType"
   ]
  },
  {
   "cell_type": "code",
   "execution_count": 2,
   "id": "a751a514-4cfc-4c45-aa43-951bba5e9df7",
   "metadata": {},
   "outputs": [],
   "source": [
    "spark = SparkSession.builder.appName(\"nyc_taxi_data_processing\").getOrCreate()"
   ]
  },
  {
   "cell_type": "code",
   "execution_count": 3,
   "id": "5827c1da-b0e2-4e61-a309-aa37131fa4ab",
   "metadata": {},
   "outputs": [],
   "source": [
    "df = spark.read.parquet(\"yellow_tripdata_2024-01.parquet\")"
   ]
  },
  {
   "cell_type": "code",
   "execution_count": 4,
   "id": "0f7e52d5-3b1a-4809-9966-89f54332f022",
   "metadata": {},
   "outputs": [
    {
     "data": {
      "text/plain": [
       "['VendorID',\n",
       " 'tpep_pickup_datetime',\n",
       " 'tpep_dropoff_datetime',\n",
       " 'passenger_count',\n",
       " 'trip_distance',\n",
       " 'RatecodeID',\n",
       " 'store_and_fwd_flag',\n",
       " 'PULocationID',\n",
       " 'DOLocationID',\n",
       " 'payment_type',\n",
       " 'fare_amount',\n",
       " 'extra',\n",
       " 'mta_tax',\n",
       " 'tip_amount',\n",
       " 'tolls_amount',\n",
       " 'improvement_surcharge',\n",
       " 'total_amount',\n",
       " 'congestion_surcharge',\n",
       " 'Airport_fee']"
      ]
     },
     "execution_count": 4,
     "metadata": {},
     "output_type": "execute_result"
    }
   ],
   "source": [
    "df.columns"
   ]
  },
  {
   "cell_type": "code",
   "execution_count": 5,
   "id": "d6b1f669-38d9-4c26-b48d-dd77d703e901",
   "metadata": {},
   "outputs": [
    {
     "name": "stdout",
     "output_type": "stream",
     "text": [
      "+--------+--------------------+---------------------+---------------+-------------+----------+------------------+------------+------------+------------+-----------+-----+-------+----------+------------+---------------------+------------+--------------------+-----------+\n",
      "|VendorID|tpep_pickup_datetime|tpep_dropoff_datetime|passenger_count|trip_distance|RatecodeID|store_and_fwd_flag|PULocationID|DOLocationID|payment_type|fare_amount|extra|mta_tax|tip_amount|tolls_amount|improvement_surcharge|total_amount|congestion_surcharge|Airport_fee|\n",
      "+--------+--------------------+---------------------+---------------+-------------+----------+------------------+------------+------------+------------+-----------+-----+-------+----------+------------+---------------------+------------+--------------------+-----------+\n",
      "|       2| 2024-01-01 00:57:55|  2024-01-01 01:17:43|              1|         1.72|         1|                 N|         186|          79|           2|       17.7|  1.0|    0.5|       0.0|         0.0|                  1.0|        22.7|                 2.5|        0.0|\n",
      "|       1| 2024-01-01 00:03:00|  2024-01-01 00:09:36|              1|          1.8|         1|                 N|         140|         236|           1|       10.0|  3.5|    0.5|      3.75|         0.0|                  1.0|       18.75|                 2.5|        0.0|\n",
      "|       1| 2024-01-01 00:17:06|  2024-01-01 00:35:01|              1|          4.7|         1|                 N|         236|          79|           1|       23.3|  3.5|    0.5|       3.0|         0.0|                  1.0|        31.3|                 2.5|        0.0|\n",
      "|       1| 2024-01-01 00:36:38|  2024-01-01 00:44:56|              1|          1.4|         1|                 N|          79|         211|           1|       10.0|  3.5|    0.5|       2.0|         0.0|                  1.0|        17.0|                 2.5|        0.0|\n",
      "|       1| 2024-01-01 00:46:51|  2024-01-01 00:52:57|              1|          0.8|         1|                 N|         211|         148|           1|        7.9|  3.5|    0.5|       3.2|         0.0|                  1.0|        16.1|                 2.5|        0.0|\n",
      "|       1| 2024-01-01 00:54:08|  2024-01-01 01:26:31|              1|          4.7|         1|                 N|         148|         141|           1|       29.6|  3.5|    0.5|       6.9|         0.0|                  1.0|        41.5|                 2.5|        0.0|\n",
      "|       2| 2024-01-01 00:49:44|  2024-01-01 01:15:47|              2|        10.82|         1|                 N|         138|         181|           1|       45.7|  6.0|    0.5|      10.0|         0.0|                  1.0|       64.95|                 0.0|       1.75|\n",
      "|       1| 2024-01-01 00:30:40|  2024-01-01 00:58:40|              0|          3.0|         1|                 N|         246|         231|           2|       25.4|  3.5|    0.5|       0.0|         0.0|                  1.0|        30.4|                 2.5|        0.0|\n",
      "|       2| 2024-01-01 00:26:01|  2024-01-01 00:54:12|              1|         5.44|         1|                 N|         161|         261|           2|       31.0|  1.0|    0.5|       0.0|         0.0|                  1.0|        36.0|                 2.5|        0.0|\n",
      "|       2| 2024-01-01 00:28:08|  2024-01-01 00:29:16|              1|         0.04|         1|                 N|         113|         113|           2|        3.0|  1.0|    0.5|       0.0|         0.0|                  1.0|         8.0|                 2.5|        0.0|\n",
      "|       2| 2024-01-01 00:35:22|  2024-01-01 00:41:41|              2|         0.75|         1|                 N|         107|         137|           1|        7.9|  1.0|    0.5|       0.0|         0.0|                  1.0|        12.9|                 2.5|        0.0|\n",
      "|       1| 2024-01-01 00:25:00|  2024-01-01 00:34:03|              2|          1.2|         1|                 N|         158|         246|           1|       14.9|  3.5|    0.5|      3.95|         0.0|                  1.0|       23.85|                 2.5|        0.0|\n",
      "|       1| 2024-01-01 00:35:16|  2024-01-01 01:11:52|              2|          8.2|         1|                 N|         246|         190|           1|       59.0|  3.5|    0.5|     14.15|        6.94|                  1.0|       85.09|                 2.5|        0.0|\n",
      "|       1| 2024-01-01 00:43:27|  2024-01-01 00:47:11|              2|          0.4|         1|                 N|          68|          90|           1|        5.8|  3.5|    0.5|      1.25|         0.0|                  1.0|       12.05|                 2.5|        0.0|\n",
      "|       1| 2024-01-01 00:51:53|  2024-01-01 00:55:43|              1|          0.8|         1|                 N|          90|          68|           2|        6.5|  3.5|    0.5|       0.0|         0.0|                  1.0|        11.5|                 2.5|        0.0|\n",
      "|       1| 2024-01-01 00:50:09|  2024-01-01 01:03:57|              1|          5.0|         1|                 N|         132|         216|           2|       21.2| 2.75|    0.5|       0.0|         0.0|                  1.0|       25.45|                 0.0|       1.75|\n",
      "|       1| 2024-01-01 00:41:06|  2024-01-01 00:53:42|              1|          1.5|         1|                 N|         164|          79|           1|       12.8|  3.5|    0.5|      4.45|         0.0|                  1.0|       22.25|                 2.5|        0.0|\n",
      "|       2| 2024-01-01 00:52:09|  2024-01-01 00:52:28|              1|          0.0|         1|                 N|         237|         237|           2|        3.0|  1.0|    0.5|       0.0|         0.0|                  1.0|         8.0|                 2.5|        0.0|\n",
      "|       2| 2024-01-01 00:56:38|  2024-01-01 01:03:17|              1|          1.5|         1|                 N|         141|         263|           1|        9.3|  1.0|    0.5|       3.0|         0.0|                  1.0|        17.3|                 2.5|        0.0|\n",
      "|       2| 2024-01-01 00:32:34|  2024-01-01 00:49:33|              1|         2.57|         1|                 N|         161|         263|           1|       17.7|  1.0|    0.5|      10.0|         0.0|                  1.0|        32.7|                 2.5|        0.0|\n",
      "+--------+--------------------+---------------------+---------------+-------------+----------+------------------+------------+------------+------------+-----------+-----+-------+----------+------------+---------------------+------------+--------------------+-----------+\n",
      "only showing top 20 rows\n",
      "\n"
     ]
    }
   ],
   "source": [
    "df.show()"
   ]
  },
  {
   "cell_type": "code",
   "execution_count": 6,
   "id": "08fbee0b-b697-4c43-9aef-7c5104f12b3a",
   "metadata": {},
   "outputs": [
    {
     "name": "stdout",
     "output_type": "stream",
     "text": [
      "root\n",
      " |-- VendorID: integer (nullable = true)\n",
      " |-- tpep_pickup_datetime: timestamp_ntz (nullable = true)\n",
      " |-- tpep_dropoff_datetime: timestamp_ntz (nullable = true)\n",
      " |-- passenger_count: long (nullable = true)\n",
      " |-- trip_distance: double (nullable = true)\n",
      " |-- RatecodeID: long (nullable = true)\n",
      " |-- store_and_fwd_flag: string (nullable = true)\n",
      " |-- PULocationID: integer (nullable = true)\n",
      " |-- DOLocationID: integer (nullable = true)\n",
      " |-- payment_type: long (nullable = true)\n",
      " |-- fare_amount: double (nullable = true)\n",
      " |-- extra: double (nullable = true)\n",
      " |-- mta_tax: double (nullable = true)\n",
      " |-- tip_amount: double (nullable = true)\n",
      " |-- tolls_amount: double (nullable = true)\n",
      " |-- improvement_surcharge: double (nullable = true)\n",
      " |-- total_amount: double (nullable = true)\n",
      " |-- congestion_surcharge: double (nullable = true)\n",
      " |-- Airport_fee: double (nullable = true)\n",
      "\n"
     ]
    }
   ],
   "source": [
    "df.printSchema()"
   ]
  },
  {
   "cell_type": "code",
   "execution_count": 7,
   "id": "58edd8a6-87f7-48b9-9f6b-0c85217bfa4d",
   "metadata": {},
   "outputs": [],
   "source": [
    "#  Handling null values\n",
    "df = df.na.drop(how = \"all\")"
   ]
  },
  {
   "cell_type": "code",
   "execution_count": 8,
   "id": "f56f0ab5-d36c-4d77-af8a-71208455a886",
   "metadata": {},
   "outputs": [
    {
     "name": "stdout",
     "output_type": "stream",
     "text": [
      "+--------+--------------------+---------------------+---------------+-------------+----------+------------------+------------+------------+------------+-----------+-----+-------+----------+------------+---------------------+------------+--------------------+-----------+\n",
      "|VendorID|tpep_pickup_datetime|tpep_dropoff_datetime|passenger_count|trip_distance|RatecodeID|store_and_fwd_flag|PULocationID|DOLocationID|payment_type|fare_amount|extra|mta_tax|tip_amount|tolls_amount|improvement_surcharge|total_amount|congestion_surcharge|Airport_fee|\n",
      "+--------+--------------------+---------------------+---------------+-------------+----------+------------------+------------+------------+------------+-----------+-----+-------+----------+------------+---------------------+------------+--------------------+-----------+\n",
      "|       2| 2024-01-01 00:57:55|  2024-01-01 01:17:43|              1|         1.72|         1|                 N|         186|          79|           2|       17.7|  1.0|    0.5|       0.0|         0.0|                  1.0|        22.7|                 2.5|        0.0|\n",
      "|       1| 2024-01-01 00:03:00|  2024-01-01 00:09:36|              1|          1.8|         1|                 N|         140|         236|           1|       10.0|  3.5|    0.5|      3.75|         0.0|                  1.0|       18.75|                 2.5|        0.0|\n",
      "|       1| 2024-01-01 00:17:06|  2024-01-01 00:35:01|              1|          4.7|         1|                 N|         236|          79|           1|       23.3|  3.5|    0.5|       3.0|         0.0|                  1.0|        31.3|                 2.5|        0.0|\n",
      "|       1| 2024-01-01 00:36:38|  2024-01-01 00:44:56|              1|          1.4|         1|                 N|          79|         211|           1|       10.0|  3.5|    0.5|       2.0|         0.0|                  1.0|        17.0|                 2.5|        0.0|\n",
      "|       1| 2024-01-01 00:46:51|  2024-01-01 00:52:57|              1|          0.8|         1|                 N|         211|         148|           1|        7.9|  3.5|    0.5|       3.2|         0.0|                  1.0|        16.1|                 2.5|        0.0|\n",
      "+--------+--------------------+---------------------+---------------+-------------+----------+------------------+------------+------------+------------+-----------+-----+-------+----------+------------+---------------------+------------+--------------------+-----------+\n",
      "only showing top 5 rows\n",
      "\n"
     ]
    }
   ],
   "source": [
    "df.show(5)"
   ]
  },
  {
   "cell_type": "code",
   "execution_count": 11,
   "id": "17da7aad-1405-4cf1-bb79-b47c6a7af787",
   "metadata": {},
   "outputs": [
    {
     "data": {
      "text/plain": [
       "'for column in df.columns:\\n    if isinstance(df.schema[column].DataType, StringType):\\n\\n        df = df.withColumn(column, col(column).cast(IntegerType()))\\ndf.show()'"
      ]
     },
     "execution_count": 11,
     "metadata": {},
     "output_type": "execute_result"
    }
   ],
   "source": [
    "# To iterate through multiple columns in a DataFrame and convert columns of StringType to IntegerType\n",
    "\"\"\"for column in df.columns:\n",
    "    if isinstance(df.schema[column].DataType, StringType):\n",
    "\n",
    "        df = df.withColumn(column, col(column).cast(IntegerType()))\n",
    "df.show()\"\"\""
   ]
  },
  {
   "cell_type": "code",
   "execution_count": 12,
   "id": "e7594f6e-aa78-46df-bc06-1cf7748266d9",
   "metadata": {},
   "outputs": [],
   "source": [
    "df = df.dropDuplicates()"
   ]
  },
  {
   "cell_type": "code",
   "execution_count": 13,
   "id": "00fc12e2-6cce-4771-9e89-24097c60af79",
   "metadata": {},
   "outputs": [
    {
     "name": "stdout",
     "output_type": "stream",
     "text": [
      "+--------+--------------------+---------------------+---------------+-------------+----------+------------------+------------+------------+------------+-----------+-----+-------+----------+------------+---------------------+------------+--------------------+-----------+\n",
      "|VendorID|tpep_pickup_datetime|tpep_dropoff_datetime|passenger_count|trip_distance|RatecodeID|store_and_fwd_flag|PULocationID|DOLocationID|payment_type|fare_amount|extra|mta_tax|tip_amount|tolls_amount|improvement_surcharge|total_amount|congestion_surcharge|Airport_fee|\n",
      "+--------+--------------------+---------------------+---------------+-------------+----------+------------------+------------+------------+------------+-----------+-----+-------+----------+------------+---------------------+------------+--------------------+-----------+\n",
      "|       1| 2024-01-01 00:41:06|  2024-01-01 00:53:42|              1|          1.5|         1|                 N|         164|          79|           1|       12.8|  3.5|    0.5|      4.45|         0.0|                  1.0|       22.25|                 2.5|        0.0|\n",
      "|       2| 2024-01-01 00:53:36|  2024-01-01 01:19:34|              1|         5.68|         1|                 N|         239|           7|           1|       28.9|  1.0|    0.5|      8.47|         0.0|                  1.0|       42.37|                 2.5|        0.0|\n",
      "|       2| 2024-01-01 00:56:19|  2024-01-01 00:59:25|              1|         1.25|         1|                 N|         236|          74|           1|        7.2|  1.0|    0.5|      2.44|         0.0|                  1.0|       14.64|                 2.5|        0.0|\n",
      "|       2| 2024-01-01 00:09:26|  2024-01-01 00:19:31|              1|         2.79|         1|                 N|         142|         166|           1|       14.2|  1.0|    0.5|      3.84|         0.0|                  1.0|       23.04|                 2.5|        0.0|\n",
      "|       2| 2024-01-01 00:43:30|  2024-01-01 01:18:53|              2|          6.1|         1|                 N|          90|          40|           1|       36.6|  1.0|    0.5|     12.13|        6.94|                  1.0|       60.67|                 2.5|        0.0|\n",
      "+--------+--------------------+---------------------+---------------+-------------+----------+------------------+------------+------------+------------+-----------+-----+-------+----------+------------+---------------------+------------+--------------------+-----------+\n",
      "only showing top 5 rows\n",
      "\n"
     ]
    }
   ],
   "source": [
    "df.show(5)"
   ]
  },
  {
   "cell_type": "code",
   "execution_count": 15,
   "id": "adf9d4c8-219d-4771-bd49-9eaa8084d41c",
   "metadata": {},
   "outputs": [],
   "source": [
    "table = PrettyTable()"
   ]
  },
  {
   "cell_type": "code",
   "execution_count": 16,
   "id": "695a8347-1101-4c7a-a3f2-794550ad31e9",
   "metadata": {},
   "outputs": [],
   "source": [
    "table.field_names = df.columns"
   ]
  },
  {
   "cell_type": "code",
   "execution_count": 17,
   "id": "20976bd8-842b-4887-a3af-484ad04f9a38",
   "metadata": {},
   "outputs": [],
   "source": [
    "for row in df.take(10):\n",
    "    table.add_row(row)"
   ]
  },
  {
   "cell_type": "code",
   "execution_count": 18,
   "id": "ac94f843-2cd0-49e0-8366-4df0e7942df7",
   "metadata": {},
   "outputs": [
    {
     "data": {
      "text/html": [
       "<table>\n",
       "    <thead>\n",
       "        <tr>\n",
       "            <th>VendorID</th>\n",
       "            <th>tpep_pickup_datetime</th>\n",
       "            <th>tpep_dropoff_datetime</th>\n",
       "            <th>passenger_count</th>\n",
       "            <th>trip_distance</th>\n",
       "            <th>RatecodeID</th>\n",
       "            <th>store_and_fwd_flag</th>\n",
       "            <th>PULocationID</th>\n",
       "            <th>DOLocationID</th>\n",
       "            <th>payment_type</th>\n",
       "            <th>fare_amount</th>\n",
       "            <th>extra</th>\n",
       "            <th>mta_tax</th>\n",
       "            <th>tip_amount</th>\n",
       "            <th>tolls_amount</th>\n",
       "            <th>improvement_surcharge</th>\n",
       "            <th>total_amount</th>\n",
       "            <th>congestion_surcharge</th>\n",
       "            <th>Airport_fee</th>\n",
       "        </tr>\n",
       "    </thead>\n",
       "    <tbody>\n",
       "        <tr>\n",
       "            <td>1</td>\n",
       "            <td>2024-01-01 00:41:06</td>\n",
       "            <td>2024-01-01 00:53:42</td>\n",
       "            <td>1</td>\n",
       "            <td>1.5</td>\n",
       "            <td>1</td>\n",
       "            <td>N</td>\n",
       "            <td>164</td>\n",
       "            <td>79</td>\n",
       "            <td>1</td>\n",
       "            <td>12.8</td>\n",
       "            <td>3.5</td>\n",
       "            <td>0.5</td>\n",
       "            <td>4.45</td>\n",
       "            <td>0.0</td>\n",
       "            <td>1.0</td>\n",
       "            <td>22.25</td>\n",
       "            <td>2.5</td>\n",
       "            <td>0.0</td>\n",
       "        </tr>\n",
       "        <tr>\n",
       "            <td>2</td>\n",
       "            <td>2024-01-01 00:53:36</td>\n",
       "            <td>2024-01-01 01:19:34</td>\n",
       "            <td>1</td>\n",
       "            <td>5.68</td>\n",
       "            <td>1</td>\n",
       "            <td>N</td>\n",
       "            <td>239</td>\n",
       "            <td>7</td>\n",
       "            <td>1</td>\n",
       "            <td>28.9</td>\n",
       "            <td>1.0</td>\n",
       "            <td>0.5</td>\n",
       "            <td>8.47</td>\n",
       "            <td>0.0</td>\n",
       "            <td>1.0</td>\n",
       "            <td>42.37</td>\n",
       "            <td>2.5</td>\n",
       "            <td>0.0</td>\n",
       "        </tr>\n",
       "        <tr>\n",
       "            <td>2</td>\n",
       "            <td>2024-01-01 00:56:19</td>\n",
       "            <td>2024-01-01 00:59:25</td>\n",
       "            <td>1</td>\n",
       "            <td>1.25</td>\n",
       "            <td>1</td>\n",
       "            <td>N</td>\n",
       "            <td>236</td>\n",
       "            <td>74</td>\n",
       "            <td>1</td>\n",
       "            <td>7.2</td>\n",
       "            <td>1.0</td>\n",
       "            <td>0.5</td>\n",
       "            <td>2.44</td>\n",
       "            <td>0.0</td>\n",
       "            <td>1.0</td>\n",
       "            <td>14.64</td>\n",
       "            <td>2.5</td>\n",
       "            <td>0.0</td>\n",
       "        </tr>\n",
       "        <tr>\n",
       "            <td>2</td>\n",
       "            <td>2024-01-01 00:09:26</td>\n",
       "            <td>2024-01-01 00:19:31</td>\n",
       "            <td>1</td>\n",
       "            <td>2.79</td>\n",
       "            <td>1</td>\n",
       "            <td>N</td>\n",
       "            <td>142</td>\n",
       "            <td>166</td>\n",
       "            <td>1</td>\n",
       "            <td>14.2</td>\n",
       "            <td>1.0</td>\n",
       "            <td>0.5</td>\n",
       "            <td>3.84</td>\n",
       "            <td>0.0</td>\n",
       "            <td>1.0</td>\n",
       "            <td>23.04</td>\n",
       "            <td>2.5</td>\n",
       "            <td>0.0</td>\n",
       "        </tr>\n",
       "        <tr>\n",
       "            <td>2</td>\n",
       "            <td>2024-01-01 00:43:30</td>\n",
       "            <td>2024-01-01 01:18:53</td>\n",
       "            <td>2</td>\n",
       "            <td>6.1</td>\n",
       "            <td>1</td>\n",
       "            <td>N</td>\n",
       "            <td>90</td>\n",
       "            <td>40</td>\n",
       "            <td>1</td>\n",
       "            <td>36.6</td>\n",
       "            <td>1.0</td>\n",
       "            <td>0.5</td>\n",
       "            <td>12.13</td>\n",
       "            <td>6.94</td>\n",
       "            <td>1.0</td>\n",
       "            <td>60.67</td>\n",
       "            <td>2.5</td>\n",
       "            <td>0.0</td>\n",
       "        </tr>\n",
       "        <tr>\n",
       "            <td>1</td>\n",
       "            <td>2024-01-01 00:56:41</td>\n",
       "            <td>2024-01-01 01:33:30</td>\n",
       "            <td>4</td>\n",
       "            <td>8.6</td>\n",
       "            <td>1</td>\n",
       "            <td>N</td>\n",
       "            <td>90</td>\n",
       "            <td>228</td>\n",
       "            <td>1</td>\n",
       "            <td>43.6</td>\n",
       "            <td>3.5</td>\n",
       "            <td>0.5</td>\n",
       "            <td>11.1</td>\n",
       "            <td>6.94</td>\n",
       "            <td>1.0</td>\n",
       "            <td>66.64</td>\n",
       "            <td>2.5</td>\n",
       "            <td>0.0</td>\n",
       "        </tr>\n",
       "        <tr>\n",
       "            <td>2</td>\n",
       "            <td>2024-01-01 00:51:20</td>\n",
       "            <td>2024-01-01 00:56:11</td>\n",
       "            <td>1</td>\n",
       "            <td>0.92</td>\n",
       "            <td>1</td>\n",
       "            <td>N</td>\n",
       "            <td>238</td>\n",
       "            <td>151</td>\n",
       "            <td>1</td>\n",
       "            <td>7.2</td>\n",
       "            <td>1.0</td>\n",
       "            <td>0.5</td>\n",
       "            <td>2.0</td>\n",
       "            <td>0.0</td>\n",
       "            <td>1.0</td>\n",
       "            <td>11.7</td>\n",
       "            <td>0.0</td>\n",
       "            <td>0.0</td>\n",
       "        </tr>\n",
       "        <tr>\n",
       "            <td>2</td>\n",
       "            <td>2024-01-01 00:11:04</td>\n",
       "            <td>2024-01-01 00:19:24</td>\n",
       "            <td>2</td>\n",
       "            <td>1.59</td>\n",
       "            <td>1</td>\n",
       "            <td>N</td>\n",
       "            <td>237</td>\n",
       "            <td>263</td>\n",
       "            <td>2</td>\n",
       "            <td>10.7</td>\n",
       "            <td>1.0</td>\n",
       "            <td>0.5</td>\n",
       "            <td>0.0</td>\n",
       "            <td>0.0</td>\n",
       "            <td>1.0</td>\n",
       "            <td>15.7</td>\n",
       "            <td>2.5</td>\n",
       "            <td>0.0</td>\n",
       "        </tr>\n",
       "        <tr>\n",
       "            <td>1</td>\n",
       "            <td>2024-01-01 00:46:04</td>\n",
       "            <td>2024-01-01 01:14:06</td>\n",
       "            <td>2</td>\n",
       "            <td>3.2</td>\n",
       "            <td>1</td>\n",
       "            <td>N</td>\n",
       "            <td>68</td>\n",
       "            <td>264</td>\n",
       "            <td>1</td>\n",
       "            <td>25.4</td>\n",
       "            <td>3.5</td>\n",
       "            <td>0.5</td>\n",
       "            <td>6.05</td>\n",
       "            <td>0.0</td>\n",
       "            <td>1.0</td>\n",
       "            <td>36.45</td>\n",
       "            <td>2.5</td>\n",
       "            <td>0.0</td>\n",
       "        </tr>\n",
       "        <tr>\n",
       "            <td>2</td>\n",
       "            <td>2024-01-01 00:28:35</td>\n",
       "            <td>2024-01-01 00:34:49</td>\n",
       "            <td>3</td>\n",
       "            <td>1.43</td>\n",
       "            <td>1</td>\n",
       "            <td>N</td>\n",
       "            <td>141</td>\n",
       "            <td>263</td>\n",
       "            <td>1</td>\n",
       "            <td>8.6</td>\n",
       "            <td>1.0</td>\n",
       "            <td>0.5</td>\n",
       "            <td>2.72</td>\n",
       "            <td>0.0</td>\n",
       "            <td>1.0</td>\n",
       "            <td>16.32</td>\n",
       "            <td>2.5</td>\n",
       "            <td>0.0</td>\n",
       "        </tr>\n",
       "    </tbody>\n",
       "</table>"
      ],
      "text/plain": [
       "+----------+----------------------+-----------------------+-----------------+---------------+------------+--------------------+--------------+--------------+--------------+-------------+-------+---------+------------+--------------+-----------------------+--------------+----------------------+-------------+\n",
       "| VendorID | tpep_pickup_datetime | tpep_dropoff_datetime | passenger_count | trip_distance | RatecodeID | store_and_fwd_flag | PULocationID | DOLocationID | payment_type | fare_amount | extra | mta_tax | tip_amount | tolls_amount | improvement_surcharge | total_amount | congestion_surcharge | Airport_fee |\n",
       "+----------+----------------------+-----------------------+-----------------+---------------+------------+--------------------+--------------+--------------+--------------+-------------+-------+---------+------------+--------------+-----------------------+--------------+----------------------+-------------+\n",
       "|    1     | 2024-01-01 00:41:06  |  2024-01-01 00:53:42  |        1        |      1.5      |     1      |         N          |     164      |      79      |      1       |     12.8    |  3.5  |   0.5   |    4.45    |     0.0      |          1.0          |    22.25     |         2.5          |     0.0     |\n",
       "|    2     | 2024-01-01 00:53:36  |  2024-01-01 01:19:34  |        1        |      5.68     |     1      |         N          |     239      |      7       |      1       |     28.9    |  1.0  |   0.5   |    8.47    |     0.0      |          1.0          |    42.37     |         2.5          |     0.0     |\n",
       "|    2     | 2024-01-01 00:56:19  |  2024-01-01 00:59:25  |        1        |      1.25     |     1      |         N          |     236      |      74      |      1       |     7.2     |  1.0  |   0.5   |    2.44    |     0.0      |          1.0          |    14.64     |         2.5          |     0.0     |\n",
       "|    2     | 2024-01-01 00:09:26  |  2024-01-01 00:19:31  |        1        |      2.79     |     1      |         N          |     142      |     166      |      1       |     14.2    |  1.0  |   0.5   |    3.84    |     0.0      |          1.0          |    23.04     |         2.5          |     0.0     |\n",
       "|    2     | 2024-01-01 00:43:30  |  2024-01-01 01:18:53  |        2        |      6.1      |     1      |         N          |      90      |      40      |      1       |     36.6    |  1.0  |   0.5   |   12.13    |     6.94     |          1.0          |    60.67     |         2.5          |     0.0     |\n",
       "|    1     | 2024-01-01 00:56:41  |  2024-01-01 01:33:30  |        4        |      8.6      |     1      |         N          |      90      |     228      |      1       |     43.6    |  3.5  |   0.5   |    11.1    |     6.94     |          1.0          |    66.64     |         2.5          |     0.0     |\n",
       "|    2     | 2024-01-01 00:51:20  |  2024-01-01 00:56:11  |        1        |      0.92     |     1      |         N          |     238      |     151      |      1       |     7.2     |  1.0  |   0.5   |    2.0     |     0.0      |          1.0          |     11.7     |         0.0          |     0.0     |\n",
       "|    2     | 2024-01-01 00:11:04  |  2024-01-01 00:19:24  |        2        |      1.59     |     1      |         N          |     237      |     263      |      2       |     10.7    |  1.0  |   0.5   |    0.0     |     0.0      |          1.0          |     15.7     |         2.5          |     0.0     |\n",
       "|    1     | 2024-01-01 00:46:04  |  2024-01-01 01:14:06  |        2        |      3.2      |     1      |         N          |      68      |     264      |      1       |     25.4    |  3.5  |   0.5   |    6.05    |     0.0      |          1.0          |    36.45     |         2.5          |     0.0     |\n",
       "|    2     | 2024-01-01 00:28:35  |  2024-01-01 00:34:49  |        3        |      1.43     |     1      |         N          |     141      |     263      |      1       |     8.6     |  1.0  |   0.5   |    2.72    |     0.0      |          1.0          |    16.32     |         2.5          |     0.0     |\n",
       "+----------+----------------------+-----------------------+-----------------+---------------+------------+--------------------+--------------+--------------+--------------+-------------+-------+---------+------------+--------------+-----------------------+--------------+----------------------+-------------+"
      ]
     },
     "execution_count": 18,
     "metadata": {},
     "output_type": "execute_result"
    }
   ],
   "source": [
    "table"
   ]
  },
  {
   "cell_type": "code",
   "execution_count": 19,
   "id": "bbcd8a32-17b1-4598-99cd-cee090809809",
   "metadata": {},
   "outputs": [
    {
     "data": {
      "text/plain": [
       "2964624"
      ]
     },
     "execution_count": 19,
     "metadata": {},
     "output_type": "execute_result"
    }
   ],
   "source": [
    "df.count()"
   ]
  },
  {
   "cell_type": "code",
   "execution_count": 20,
   "id": "5d511e7c-16e4-4281-8ff6-bbbebb495bf7",
   "metadata": {},
   "outputs": [
    {
     "data": {
      "text/plain": [
       "['VendorID',\n",
       " 'tpep_pickup_datetime',\n",
       " 'tpep_dropoff_datetime',\n",
       " 'passenger_count',\n",
       " 'trip_distance',\n",
       " 'RatecodeID',\n",
       " 'store_and_fwd_flag',\n",
       " 'PULocationID',\n",
       " 'DOLocationID',\n",
       " 'payment_type',\n",
       " 'fare_amount',\n",
       " 'extra',\n",
       " 'mta_tax',\n",
       " 'tip_amount',\n",
       " 'tolls_amount',\n",
       " 'improvement_surcharge',\n",
       " 'total_amount',\n",
       " 'congestion_surcharge',\n",
       " 'Airport_fee']"
      ]
     },
     "execution_count": 20,
     "metadata": {},
     "output_type": "execute_result"
    }
   ],
   "source": [
    "df.columns"
   ]
  },
  {
   "cell_type": "code",
   "execution_count": null,
   "id": "ad3d2bab-55ef-4063-9717-0da2fc9f1fa9",
   "metadata": {},
   "outputs": [],
   "source": []
  }
 ],
 "metadata": {
  "kernelspec": {
   "display_name": "Python 3 (ipykernel)",
   "language": "python",
   "name": "python3"
  },
  "language_info": {
   "codemirror_mode": {
    "name": "ipython",
    "version": 3
   },
   "file_extension": ".py",
   "mimetype": "text/x-python",
   "name": "python",
   "nbconvert_exporter": "python",
   "pygments_lexer": "ipython3",
   "version": "3.11.9"
  }
 },
 "nbformat": 4,
 "nbformat_minor": 5
}
